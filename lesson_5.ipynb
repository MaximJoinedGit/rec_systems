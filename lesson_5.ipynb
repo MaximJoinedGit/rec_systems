{
 "cells": [
  {
   "cell_type": "code",
   "execution_count": 1,
   "metadata": {},
   "outputs": [],
   "source": [
    "import pandas as pd\n",
    "import numpy as np\n",
    "import matplotlib.pyplot as plt\n",
    "%matplotlib inline\n",
    "\n",
    "# Для работы с матрицами\n",
    "from scipy.sparse import csr_matrix, coo_matrix\n",
    "\n",
    "# Матричная факторизация\n",
    "from implicit.als import AlternatingLeastSquares\n",
    "from implicit.nearest_neighbours import bm25_weight, tfidf_weight\n",
    "\n",
    "from lightfm import LightFM\n",
    "from lightfm.evaluation import precision_at_k, recall_at_k\n",
    "\n",
    "# Функции из 1-ого вебинара\n",
    "import os, sys\n",
    "\n",
    "module_path = os.path.abspath(os.path.join(os.pardir))\n",
    "if module_path not in sys.path:\n",
    "    sys.path.append(module_path)\n",
    "    \n",
    "# from src.metrics import precision_at_k, recall_at_k\n",
    "from src.utils import prefilter_items\n",
    "\n",
    "import optuna"
   ]
  },
  {
   "cell_type": "code",
   "execution_count": 2,
   "metadata": {},
   "outputs": [],
   "source": [
    "data = pd.read_csv('../Manuals/webinar_2/retail_train.csv')\n",
    "\n",
    "item_features = pd.read_csv('../Manuals/webinar_2/product.csv')\n",
    "user_features = pd.read_csv('../Manuals/webinar_2/hh_demographic.csv')\n",
    "\n",
    "# column processing\n",
    "item_features.columns = [col.lower() for col in item_features.columns]\n",
    "user_features.columns = [col.lower() for col in user_features.columns]\n",
    "\n",
    "item_features.rename(columns={'product_id': 'item_id'}, inplace=True)\n",
    "user_features.rename(columns={'household_key': 'user_id'}, inplace=True)\n",
    "\n",
    "# train test split\n",
    "test_size_weeks = 3\n",
    "\n",
    "data_train = data[data['week_no'] < data['week_no'].max() - test_size_weeks]\n",
    "data_test = data[data['week_no'] >= data['week_no'].max() - test_size_weeks]\n",
    "\n",
    "# data_train.head(2)"
   ]
  },
  {
   "cell_type": "markdown",
   "metadata": {},
   "source": [
    "## 1. Filter items"
   ]
  },
  {
   "cell_type": "code",
   "execution_count": 3,
   "metadata": {},
   "outputs": [
    {
     "name": "stdout",
     "output_type": "stream",
     "text": [
      "Decreased # items from 86865 to 5000\n"
     ]
    }
   ],
   "source": [
    "n_items_before = data_train['item_id'].nunique()\n",
    "\n",
    "data_train_filtered = prefilter_items(data_train, take_n_popular=5000, item_features=item_features)\n",
    "\n",
    "n_items_after = data_train_filtered['item_id'].nunique()\n",
    "print('Decreased # items from {} to {}'.format(n_items_before, n_items_after))"
   ]
  },
  {
   "cell_type": "markdown",
   "metadata": {},
   "source": [
    "# 2. Prepare data set"
   ]
  },
  {
   "cell_type": "markdown",
   "metadata": {},
   "source": [
    "## 2.1 Prepare csr train matrix"
   ]
  },
  {
   "cell_type": "code",
   "execution_count": 4,
   "metadata": {},
   "outputs": [
    {
     "data": {
      "text/html": [
       "<div>\n",
       "<style scoped>\n",
       "    .dataframe tbody tr th:only-of-type {\n",
       "        vertical-align: middle;\n",
       "    }\n",
       "\n",
       "    .dataframe tbody tr th {\n",
       "        vertical-align: top;\n",
       "    }\n",
       "\n",
       "    .dataframe thead th {\n",
       "        text-align: right;\n",
       "    }\n",
       "</style>\n",
       "<table border=\"1\" class=\"dataframe\">\n",
       "  <thead>\n",
       "    <tr style=\"text-align: right;\">\n",
       "      <th>item_id</th>\n",
       "      <th>25671</th>\n",
       "      <th>26081</th>\n",
       "      <th>26093</th>\n",
       "      <th>26190</th>\n",
       "      <th>26355</th>\n",
       "      <th>26426</th>\n",
       "      <th>26540</th>\n",
       "      <th>26601</th>\n",
       "      <th>26636</th>\n",
       "      <th>26691</th>\n",
       "      <th>...</th>\n",
       "      <th>17328742</th>\n",
       "      <th>17329473</th>\n",
       "      <th>17329749</th>\n",
       "      <th>17330255</th>\n",
       "      <th>17330511</th>\n",
       "      <th>17381856</th>\n",
       "      <th>17382205</th>\n",
       "      <th>17383227</th>\n",
       "      <th>17827644</th>\n",
       "      <th>17829232</th>\n",
       "    </tr>\n",
       "    <tr>\n",
       "      <th>user_id</th>\n",
       "      <th></th>\n",
       "      <th></th>\n",
       "      <th></th>\n",
       "      <th></th>\n",
       "      <th></th>\n",
       "      <th></th>\n",
       "      <th></th>\n",
       "      <th></th>\n",
       "      <th></th>\n",
       "      <th></th>\n",
       "      <th></th>\n",
       "      <th></th>\n",
       "      <th></th>\n",
       "      <th></th>\n",
       "      <th></th>\n",
       "      <th></th>\n",
       "      <th></th>\n",
       "      <th></th>\n",
       "      <th></th>\n",
       "      <th></th>\n",
       "      <th></th>\n",
       "    </tr>\n",
       "  </thead>\n",
       "  <tbody>\n",
       "    <tr>\n",
       "      <th>1</th>\n",
       "      <td>0.0</td>\n",
       "      <td>0.0</td>\n",
       "      <td>0.0</td>\n",
       "      <td>0.0</td>\n",
       "      <td>0.0</td>\n",
       "      <td>0.0</td>\n",
       "      <td>0.0</td>\n",
       "      <td>0.0</td>\n",
       "      <td>0.0</td>\n",
       "      <td>0.0</td>\n",
       "      <td>...</td>\n",
       "      <td>0.0</td>\n",
       "      <td>0.0</td>\n",
       "      <td>0.0</td>\n",
       "      <td>0.0</td>\n",
       "      <td>0.0</td>\n",
       "      <td>0.0</td>\n",
       "      <td>0.0</td>\n",
       "      <td>0.0</td>\n",
       "      <td>0.0</td>\n",
       "      <td>0.0</td>\n",
       "    </tr>\n",
       "    <tr>\n",
       "      <th>2</th>\n",
       "      <td>0.0</td>\n",
       "      <td>0.0</td>\n",
       "      <td>0.0</td>\n",
       "      <td>0.0</td>\n",
       "      <td>0.0</td>\n",
       "      <td>0.0</td>\n",
       "      <td>0.0</td>\n",
       "      <td>0.0</td>\n",
       "      <td>0.0</td>\n",
       "      <td>0.0</td>\n",
       "      <td>...</td>\n",
       "      <td>0.0</td>\n",
       "      <td>0.0</td>\n",
       "      <td>0.0</td>\n",
       "      <td>0.0</td>\n",
       "      <td>0.0</td>\n",
       "      <td>0.0</td>\n",
       "      <td>0.0</td>\n",
       "      <td>0.0</td>\n",
       "      <td>0.0</td>\n",
       "      <td>0.0</td>\n",
       "    </tr>\n",
       "  </tbody>\n",
       "</table>\n",
       "<p>2 rows × 86865 columns</p>\n",
       "</div>"
      ],
      "text/plain": [
       "item_id  25671     26081     26093     26190     26355     26426     26540     \\\n",
       "user_id                                                                         \n",
       "1             0.0       0.0       0.0       0.0       0.0       0.0       0.0   \n",
       "2             0.0       0.0       0.0       0.0       0.0       0.0       0.0   \n",
       "\n",
       "item_id  26601     26636     26691     ...  17328742  17329473  17329749  \\\n",
       "user_id                                ...                                 \n",
       "1             0.0       0.0       0.0  ...       0.0       0.0       0.0   \n",
       "2             0.0       0.0       0.0  ...       0.0       0.0       0.0   \n",
       "\n",
       "item_id  17330255  17330511  17381856  17382205  17383227  17827644  17829232  \n",
       "user_id                                                                        \n",
       "1             0.0       0.0       0.0       0.0       0.0       0.0       0.0  \n",
       "2             0.0       0.0       0.0       0.0       0.0       0.0       0.0  \n",
       "\n",
       "[2 rows x 86865 columns]"
      ]
     },
     "execution_count": 4,
     "metadata": {},
     "output_type": "execute_result"
    }
   ],
   "source": [
    "user_item_matrix = pd.pivot_table(data_train, \n",
    "                                  index='user_id', columns='item_id', \n",
    "                                  values='quantity', # Можно пробовать другие варианты\n",
    "                                  aggfunc='count', \n",
    "                                  fill_value=0\n",
    "                                 )\n",
    "\n",
    "user_item_matrix = user_item_matrix.astype(float) # необходимый тип матрицы для implicit\n",
    "\n",
    "# переведем в формат sparse matrix\n",
    "sparse_user_item = csr_matrix(user_item_matrix).tocsr()\n",
    "\n",
    "user_item_matrix.head(2)"
   ]
  },
  {
   "cell_type": "markdown",
   "metadata": {},
   "source": [
    "## 2.2 Prepare CSR test matrix"
   ]
  },
  {
   "cell_type": "code",
   "execution_count": 5,
   "metadata": {},
   "outputs": [],
   "source": [
    "data_test = data_test[data_test['item_id'].isin(data_train['item_id'].unique())]\n",
    "\n",
    "test_user_item_matrix = pd.pivot_table(data_test, \n",
    "                                  index='user_id', columns='item_id', \n",
    "                                  values='quantity', # Можно пробоват ьдругие варианты\n",
    "                                  aggfunc='count', \n",
    "                                  fill_value=0\n",
    "                                 )\n",
    "\n",
    "test_user_item_matrix = test_user_item_matrix.astype(float) # необходимый тип матрицы для implicit"
   ]
  },
  {
   "cell_type": "code",
   "execution_count": 6,
   "metadata": {},
   "outputs": [],
   "source": [
    "userids = user_item_matrix.index.values\n",
    "itemids = user_item_matrix.columns.values\n",
    "\n",
    "matrix_userids = np.arange(len(userids))\n",
    "matrix_itemids = np.arange(len(itemids))\n",
    "\n",
    "id_to_itemid = dict(zip(matrix_itemids, itemids))\n",
    "id_to_userid = dict(zip(matrix_userids, userids))\n",
    "\n",
    "itemid_to_id = dict(zip(itemids, matrix_itemids))\n",
    "userid_to_id = dict(zip(userids, matrix_userids))"
   ]
  },
  {
   "cell_type": "markdown",
   "metadata": {},
   "source": [
    "## 3. Prepare user and item features"
   ]
  },
  {
   "cell_type": "code",
   "execution_count": 7,
   "metadata": {},
   "outputs": [
    {
     "data": {
      "text/html": [
       "<div>\n",
       "<style scoped>\n",
       "    .dataframe tbody tr th:only-of-type {\n",
       "        vertical-align: middle;\n",
       "    }\n",
       "\n",
       "    .dataframe tbody tr th {\n",
       "        vertical-align: top;\n",
       "    }\n",
       "\n",
       "    .dataframe thead th {\n",
       "        text-align: right;\n",
       "    }\n",
       "</style>\n",
       "<table border=\"1\" class=\"dataframe\">\n",
       "  <thead>\n",
       "    <tr style=\"text-align: right;\">\n",
       "      <th></th>\n",
       "      <th>age_desc</th>\n",
       "      <th>marital_status_code</th>\n",
       "      <th>income_desc</th>\n",
       "      <th>homeowner_desc</th>\n",
       "      <th>hh_comp_desc</th>\n",
       "      <th>household_size_desc</th>\n",
       "      <th>kid_category_desc</th>\n",
       "    </tr>\n",
       "    <tr>\n",
       "      <th>user_id</th>\n",
       "      <th></th>\n",
       "      <th></th>\n",
       "      <th></th>\n",
       "      <th></th>\n",
       "      <th></th>\n",
       "      <th></th>\n",
       "      <th></th>\n",
       "    </tr>\n",
       "  </thead>\n",
       "  <tbody>\n",
       "    <tr>\n",
       "      <th>1</th>\n",
       "      <td>65+</td>\n",
       "      <td>A</td>\n",
       "      <td>35-49K</td>\n",
       "      <td>Homeowner</td>\n",
       "      <td>2 Adults No Kids</td>\n",
       "      <td>2</td>\n",
       "      <td>None/Unknown</td>\n",
       "    </tr>\n",
       "    <tr>\n",
       "      <th>2</th>\n",
       "      <td>NaN</td>\n",
       "      <td>NaN</td>\n",
       "      <td>NaN</td>\n",
       "      <td>NaN</td>\n",
       "      <td>NaN</td>\n",
       "      <td>NaN</td>\n",
       "      <td>NaN</td>\n",
       "    </tr>\n",
       "  </tbody>\n",
       "</table>\n",
       "</div>"
      ],
      "text/plain": [
       "        age_desc marital_status_code income_desc homeowner_desc  \\\n",
       "user_id                                                           \n",
       "1            65+                   A      35-49K      Homeowner   \n",
       "2            NaN                 NaN         NaN            NaN   \n",
       "\n",
       "             hh_comp_desc household_size_desc kid_category_desc  \n",
       "user_id                                                          \n",
       "1        2 Adults No Kids                   2      None/Unknown  \n",
       "2                     NaN                 NaN               NaN  "
      ]
     },
     "execution_count": 7,
     "metadata": {},
     "output_type": "execute_result"
    }
   ],
   "source": [
    "user_feat = pd.DataFrame(user_item_matrix.index)\n",
    "user_feat = user_feat.merge(user_features, on='user_id', how='left')\n",
    "user_feat.set_index('user_id', inplace=True)\n",
    "user_feat.head(2)"
   ]
  },
  {
   "cell_type": "code",
   "execution_count": 8,
   "metadata": {
    "scrolled": true
   },
   "outputs": [],
   "source": [
    "item_feat = pd.DataFrame(user_item_matrix.columns)\n",
    "item_feat = item_feat.merge(item_features, on='item_id', how='left')\n",
    "item_feat.set_index('item_id', inplace=True)\n",
    "\n",
    "# item_feat.head(2)"
   ]
  },
  {
   "cell_type": "markdown",
   "metadata": {},
   "source": [
    "## Encoding features"
   ]
  },
  {
   "cell_type": "code",
   "execution_count": 9,
   "metadata": {},
   "outputs": [],
   "source": [
    "user_feat_lightfm = pd.get_dummies(user_feat, columns=user_feat.columns.tolist())\n",
    "item_feat_lightfm = pd.get_dummies(item_feat, columns=item_feat.columns.tolist())"
   ]
  },
  {
   "cell_type": "markdown",
   "metadata": {},
   "source": [
    "## Init model"
   ]
  },
  {
   "cell_type": "code",
   "execution_count": 10,
   "metadata": {},
   "outputs": [],
   "source": [
    "model = LightFM(no_components=40,\n",
    "#                 loss='bpr',\n",
    "                loss='warp',\n",
    "                learning_rate=0.05, \n",
    "                item_alpha=0.1,\n",
    "                user_alpha=0.1, \n",
    "                random_state=42)"
   ]
  },
  {
   "cell_type": "markdown",
   "metadata": {},
   "source": [
    "## Train"
   ]
  },
  {
   "cell_type": "code",
   "execution_count": 11,
   "metadata": {},
   "outputs": [
    {
     "data": {
      "text/plain": [
       "<lightfm.lightfm.LightFM at 0x7fe9ec7008e0>"
      ]
     },
     "execution_count": 11,
     "metadata": {},
     "output_type": "execute_result"
    }
   ],
   "source": [
    "model.fit((sparse_user_item > 0) * 1,  # user-item matrix из 0 и 1\n",
    "          sample_weight=coo_matrix(user_item_matrix),\n",
    "          user_features=csr_matrix(user_feat_lightfm.values).tocsr(),\n",
    "          item_features=csr_matrix(item_feat_lightfm.values).tocsr(),\n",
    "          epochs=15, \n",
    "          num_threads=2,\n",
    "          verbose=False) "
   ]
  },
  {
   "cell_type": "markdown",
   "metadata": {},
   "source": [
    "# Evaluation"
   ]
  },
  {
   "cell_type": "code",
   "execution_count": 12,
   "metadata": {},
   "outputs": [],
   "source": [
    "user_emb = model.get_user_representations(features=csr_matrix(user_feat_lightfm.values).tocsr())"
   ]
  },
  {
   "cell_type": "code",
   "execution_count": 13,
   "metadata": {},
   "outputs": [],
   "source": [
    "item_emb = model.get_item_representations(features=csr_matrix(item_feat_lightfm.values).tocsr())"
   ]
  },
  {
   "cell_type": "markdown",
   "metadata": {},
   "source": [
    "# Train precision"
   ]
  },
  {
   "cell_type": "code",
   "execution_count": 14,
   "metadata": {},
   "outputs": [
    {
     "data": {
      "text/plain": [
       "0.051700678"
      ]
     },
     "execution_count": 14,
     "metadata": {},
     "output_type": "execute_result"
    }
   ],
   "source": [
    "train_precision = precision_at_k(model, sparse_user_item, \n",
    "                                 user_features=csr_matrix(user_feat_lightfm.values).tocsr(),\n",
    "                                 item_features=csr_matrix(item_feat_lightfm.values).tocsr(),\n",
    "                                 k=5).mean()\n",
    "\n",
    "train_precision"
   ]
  },
  {
   "cell_type": "code",
   "execution_count": 15,
   "metadata": {},
   "outputs": [],
   "source": [
    "test_item_ids = np.array([1, 2, 3, 200, 1200])\n",
    "\n",
    "predictions = model.predict(user_ids=0,\n",
    "                            item_ids=test_item_ids,\n",
    "                            user_features=csr_matrix(user_feat_lightfm.values).tocsr(),\n",
    "                            item_features=csr_matrix(item_feat_lightfm.values).tocsr(),\n",
    "                            num_threads=4)"
   ]
  },
  {
   "cell_type": "markdown",
   "metadata": {},
   "source": [
    "# Test precision"
   ]
  },
  {
   "cell_type": "code",
   "execution_count": 16,
   "metadata": {},
   "outputs": [
    {
     "data": {
      "text/plain": [
       "0.0022537974"
      ]
     },
     "execution_count": 16,
     "metadata": {},
     "output_type": "execute_result"
    }
   ],
   "source": [
    "test_precision = precision_at_k(model, csr_matrix(test_user_item_matrix).tocsr(), \n",
    "                                 user_features=csr_matrix(user_feat_lightfm.values).tocsr(),\n",
    "                                 item_features=csr_matrix(item_feat_lightfm.values).tocsr(),\n",
    "                                 k=5).mean()\n",
    "\n",
    "test_precision"
   ]
  },
  {
   "cell_type": "markdown",
   "metadata": {},
   "source": [
    "# Optimization"
   ]
  },
  {
   "cell_type": "code",
   "execution_count": 17,
   "metadata": {},
   "outputs": [],
   "source": [
    "def objective(trial):\n",
    "    \n",
    "    # Создадим словарь гиперпараметров, которые будем подбирать\n",
    "    params = {\n",
    "        'no_components': trial.suggest_int('no_components', 10, 100),\n",
    "        'learning_rate': trial.suggest_float('learning_rate', 0.001, 0.1),\n",
    "        'item_alpha': trial.suggest_float('item_alpha', 0.01, 0.1),\n",
    "        'user_alpha': trial.suggest_float('user_alpha', 0.01, 0.1),\n",
    "        'loss': trial.suggest_categorical('loss', ['warp', 'bpr']),\n",
    "        'random_state': 42, # фиксирован, не меняется\n",
    "    }\n",
    "    \n",
    "    # Создаем модель обучения\n",
    "    model = LightFM(**params)\n",
    "    model.fit(\n",
    "        (sparse_user_item > 0) * 1,\n",
    "        sample_weight=coo_matrix(user_item_matrix),\n",
    "        user_features=csr_matrix(user_feat_lightfm.values).tocsr(),\n",
    "        item_features=csr_matrix(item_feat_lightfm.values).tocsr(),\n",
    "        epochs=15, \n",
    "        num_threads=4,\n",
    "        verbose=False,\n",
    "    )\n",
    "    \n",
    "    # Будем максимизировать precision при подборе\n",
    "    precision = precision_at_k(\n",
    "                                model,\n",
    "                                csr_matrix(test_user_item_matrix).tocsr(), \n",
    "                                user_features=csr_matrix(user_feat_lightfm.values).tocsr(),\n",
    "                                item_features=csr_matrix(item_feat_lightfm.values).tocsr(),\n",
    "                                k=5\n",
    "                    ).mean()\n",
    "    \n",
    "    return precision"
   ]
  },
  {
   "cell_type": "code",
   "execution_count": 18,
   "metadata": {},
   "outputs": [
    {
     "name": "stderr",
     "output_type": "stream",
     "text": [
      "\u001b[32m[I 2021-06-25 00:39:27,722]\u001b[0m A new study created in memory with name: no-name-a24535e5-1323-43a1-83f7-9d249007d0e0\u001b[0m\n",
      "\u001b[32m[I 2021-06-25 00:44:46,237]\u001b[0m Trial 0 finished with value: 0.0006859382847324014 and parameters: {'no_components': 60, 'learning_rate': 0.0028448190002012897, 'item_alpha': 0.019070933408131725, 'user_alpha': 0.05440896144354919, 'loss': 'bpr'}. Best is trial 0 with value: 0.0006859382847324014.\u001b[0m\n",
      "\u001b[32m[I 2021-06-25 00:48:59,096]\u001b[0m Trial 1 finished with value: 0.0027437531389296055 and parameters: {'no_components': 57, 'learning_rate': 0.0396912700566891, 'item_alpha': 0.012796896233740444, 'user_alpha': 0.07360754196819466, 'loss': 'bpr'}. Best is trial 1 with value: 0.0027437531389296055.\u001b[0m\n",
      "\u001b[32m[I 2021-06-25 00:53:44,020]\u001b[0m Trial 2 finished with value: 0.0006859382847324014 and parameters: {'no_components': 72, 'learning_rate': 0.016698262883175826, 'item_alpha': 0.0753481099758766, 'user_alpha': 0.05395258554331864, 'loss': 'warp'}. Best is trial 1 with value: 0.0027437531389296055.\u001b[0m\n",
      "\u001b[32m[I 2021-06-25 00:55:53,222]\u001b[0m Trial 3 finished with value: 0.002841744339093566 and parameters: {'no_components': 15, 'learning_rate': 0.079833745583316, 'item_alpha': 0.07109825448804999, 'user_alpha': 0.023331539394335573, 'loss': 'bpr'}. Best is trial 3 with value: 0.002841744339093566.\u001b[0m\n",
      "\u001b[32m[I 2021-06-25 00:57:53,742]\u001b[0m Trial 4 finished with value: 0.002841744339093566 and parameters: {'no_components': 18, 'learning_rate': 0.05478793459497801, 'item_alpha': 0.03638075601505734, 'user_alpha': 0.026658629607463666, 'loss': 'bpr'}. Best is trial 3 with value: 0.002841744339093566.\u001b[0m\n",
      "\u001b[32m[I 2021-06-25 01:00:58,515]\u001b[0m Trial 5 finished with value: 0.0006859382847324014 and parameters: {'no_components': 39, 'learning_rate': 0.009842336521155244, 'item_alpha': 0.02057991222899034, 'user_alpha': 0.06389804851777026, 'loss': 'bpr'}. Best is trial 3 with value: 0.002841744339093566.\u001b[0m\n",
      "\u001b[32m[I 2021-06-25 01:05:32,588]\u001b[0m Trial 6 finished with value: 0.002841744339093566 and parameters: {'no_components': 32, 'learning_rate': 0.03861528036917565, 'item_alpha': 0.08053596679510969, 'user_alpha': 0.027900450830601865, 'loss': 'bpr'}. Best is trial 3 with value: 0.002841744339093566.\u001b[0m\n",
      "\u001b[32m[I 2021-06-25 01:07:18,578]\u001b[0m Trial 7 finished with value: 0.000979911768808961 and parameters: {'no_components': 10, 'learning_rate': 0.053966101597944335, 'item_alpha': 0.09307318395504037, 'user_alpha': 0.017683869986271895, 'loss': 'bpr'}. Best is trial 3 with value: 0.002841744339093566.\u001b[0m\n",
      "\u001b[32m[I 2021-06-25 01:10:04,292]\u001b[0m Trial 8 finished with value: 0.000979911768808961 and parameters: {'no_components': 27, 'learning_rate': 0.09348151906905271, 'item_alpha': 0.07380543645236057, 'user_alpha': 0.04557238739562992, 'loss': 'bpr'}. Best is trial 3 with value: 0.002841744339093566.\u001b[0m\n",
      "\u001b[32m[I 2021-06-25 01:14:45,718]\u001b[0m Trial 9 finished with value: 0.0020578147377818823 and parameters: {'no_components': 54, 'learning_rate': 0.04289809091048422, 'item_alpha': 0.09418925895136113, 'user_alpha': 0.01224162471506807, 'loss': 'bpr'}. Best is trial 3 with value: 0.002841744339093566.\u001b[0m\n",
      "\u001b[32m[I 2021-06-25 01:20:42,815]\u001b[0m Trial 10 finished with value: 0.0021558059379458427 and parameters: {'no_components': 99, 'learning_rate': 0.09766423602281263, 'item_alpha': 0.051533031139152405, 'user_alpha': 0.0970528486186233, 'loss': 'warp'}. Best is trial 3 with value: 0.002841744339093566.\u001b[0m\n",
      "\u001b[32m[I 2021-06-25 01:22:31,896]\u001b[0m Trial 11 finished with value: 0.002841744339093566 and parameters: {'no_components': 15, 'learning_rate': 0.07304446055228411, 'item_alpha': 0.04225902001072425, 'user_alpha': 0.03258777684703119, 'loss': 'bpr'}. Best is trial 3 with value: 0.002841744339093566.\u001b[0m\n",
      "\u001b[32m[I 2021-06-25 01:24:14,852]\u001b[0m Trial 12 finished with value: 0.0032337091397494078 and parameters: {'no_components': 13, 'learning_rate': 0.07200173541703017, 'item_alpha': 0.03711034717091657, 'user_alpha': 0.033085957623226254, 'loss': 'warp'}. Best is trial 12 with value: 0.0032337091397494078.\u001b[0m\n",
      "\u001b[32m[I 2021-06-25 01:25:46,586]\u001b[0m Trial 13 finished with value: 0.0029397355392575264 and parameters: {'no_components': 10, 'learning_rate': 0.0784434241446035, 'item_alpha': 0.06366333921460822, 'user_alpha': 0.040949128037228937, 'loss': 'warp'}. Best is trial 12 with value: 0.0032337091397494078.\u001b[0m\n",
      "\u001b[32m[I 2021-06-25 01:31:46,423]\u001b[0m Trial 14 finished with value: 0.0032337091397494078 and parameters: {'no_components': 100, 'learning_rate': 0.07393797823185287, 'item_alpha': 0.058479550263312176, 'user_alpha': 0.04119389599537289, 'loss': 'warp'}. Best is trial 12 with value: 0.0032337091397494078.\u001b[0m\n",
      "\u001b[32m[I 2021-06-25 01:37:27,365]\u001b[0m Trial 15 finished with value: 0.0032337091397494078 and parameters: {'no_components': 93, 'learning_rate': 0.06525419654547425, 'item_alpha': 0.032934366605495494, 'user_alpha': 0.04130606172550157, 'loss': 'warp'}. Best is trial 12 with value: 0.0032337091397494078.\u001b[0m\n",
      "\u001b[32m[I 2021-06-25 01:42:49,965]\u001b[0m Trial 16 finished with value: 0.002547770505771041 and parameters: {'no_components': 86, 'learning_rate': 0.08829677816071199, 'item_alpha': 0.05215630685975404, 'user_alpha': 0.0741228595405064, 'loss': 'warp'}. Best is trial 12 with value: 0.0032337091397494078.\u001b[0m\n",
      "\u001b[32m[I 2021-06-25 01:47:46,797]\u001b[0m Trial 17 finished with value: 0.001959823537617922 and parameters: {'no_components': 77, 'learning_rate': 0.06629141764174071, 'item_alpha': 0.04393908986058012, 'user_alpha': 0.037107348812709454, 'loss': 'warp'}. Best is trial 12 with value: 0.0032337091397494078.\u001b[0m\n",
      "\u001b[32m[I 2021-06-25 01:53:45,926]\u001b[0m Trial 18 finished with value: 0.0023517883382737637 and parameters: {'no_components': 100, 'learning_rate': 0.06246201733352326, 'item_alpha': 0.027588172046678697, 'user_alpha': 0.04623320426122414, 'loss': 'warp'}. Best is trial 12 with value: 0.0032337091397494078.\u001b[0m\n",
      "\u001b[32m[I 2021-06-25 01:59:14,389]\u001b[0m Trial 19 finished with value: 0.0021558059379458427 and parameters: {'no_components': 89, 'learning_rate': 0.08668117878734272, 'item_alpha': 0.060772092551123806, 'user_alpha': 0.06499011915534855, 'loss': 'warp'}. Best is trial 12 with value: 0.0032337091397494078.\u001b[0m\n"
     ]
    }
   ],
   "source": [
    "study = optuna.create_study(direction=\"maximize\")\n",
    "study.optimize(objective, n_trials=20)"
   ]
  },
  {
   "cell_type": "code",
   "execution_count": 19,
   "metadata": {},
   "outputs": [
    {
     "data": {
      "text/plain": [
       "0.0032337091397494078"
      ]
     },
     "execution_count": 19,
     "metadata": {},
     "output_type": "execute_result"
    }
   ],
   "source": [
    "study.best_value"
   ]
  },
  {
   "cell_type": "code",
   "execution_count": 20,
   "metadata": {},
   "outputs": [
    {
     "data": {
      "text/plain": [
       "{'no_components': 13,\n",
       " 'learning_rate': 0.07200173541703017,\n",
       " 'item_alpha': 0.03711034717091657,\n",
       " 'user_alpha': 0.033085957623226254,\n",
       " 'loss': 'warp'}"
      ]
     },
     "execution_count": 20,
     "metadata": {},
     "output_type": "execute_result"
    }
   ],
   "source": [
    "study.best_params"
   ]
  }
 ],
 "metadata": {
  "kernelspec": {
   "display_name": "Python 3",
   "language": "python",
   "name": "python3"
  },
  "language_info": {
   "codemirror_mode": {
    "name": "ipython",
    "version": 3
   },
   "file_extension": ".py",
   "mimetype": "text/x-python",
   "name": "python",
   "nbconvert_exporter": "python",
   "pygments_lexer": "ipython3",
   "version": "3.8.5"
  }
 },
 "nbformat": 4,
 "nbformat_minor": 4
}
